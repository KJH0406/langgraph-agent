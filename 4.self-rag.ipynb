{
 "cells": [
  {
   "cell_type": "code",
   "execution_count": 153,
   "metadata": {},
   "outputs": [],
   "source": [
    "from langchain_chroma import Chroma\n",
    "from langchain_openai import OpenAIEmbeddings\n",
    "\n",
    "embedding_function = OpenAIEmbeddings(model=\"text-embedding-3-large\")\n",
    "\n",
    "vector_store = Chroma(\n",
    "    embedding_function=embedding_function,\n",
    "    collection_name=\"income_tax_collection\",\n",
    "    persist_directory=\"income_tax_collection\"\n",
    ")\n",
    "\n",
    "retriever = vector_store.as_retriever(search_kwargs={\"k\": 3})"
   ]
  },
  {
   "cell_type": "code",
   "execution_count": 154,
   "metadata": {},
   "outputs": [],
   "source": [
    "from typing_extensions import List, TypedDict\n",
    "from langchain_core.documents import Document\n",
    "from langgraph.graph import StateGraph\n",
    "\n",
    "class AgentState(TypedDict):\n",
    "    query: str\n",
    "    context: List[Document]\n",
    "    answer: str\n",
    "\n",
    "\n",
    "graph_builder = StateGraph(AgentState)"
   ]
  },
  {
   "cell_type": "code",
   "execution_count": 155,
   "metadata": {},
   "outputs": [],
   "source": [
    "def retrieve(state: AgentState):\n",
    "    query = state[\"query\"]\n",
    "    docs = retriever.invoke(query)\n",
    "    return {\"context\": docs}"
   ]
  },
  {
   "cell_type": "code",
   "execution_count": 156,
   "metadata": {},
   "outputs": [],
   "source": [
    "from langchain_openai import ChatOpenAI\n",
    "\n",
    "generate_llm = ChatOpenAI(model=\"gpt-4o\", max_tokens=100)"
   ]
  },
  {
   "cell_type": "code",
   "execution_count": 157,
   "metadata": {},
   "outputs": [
    {
     "name": "stderr",
     "output_type": "stream",
     "text": [
      "/Users/kimjangho/Desktop/langgraph-agent/.venv/lib/python3.11/site-packages/langsmith/client.py:272: LangSmithMissingAPIKeyWarning: API key must be provided when using hosted LangSmith API\n",
      "  warnings.warn(\n"
     ]
    }
   ],
   "source": [
    "from langchain import hub\n",
    "\n",
    "generate_prompt = hub.pull(\"rlm/rag-prompt\")\n",
    "\n",
    "def generate(state: AgentState):\n",
    "    context = state[\"context\"]\n",
    "    query = state[\"query\"]\n",
    "    rag_chain = generate_prompt | generate_llm \n",
    "    response = rag_chain.invoke({\"context\": context, \"question\": query})\n",
    "    print(f\"generate response: {response}\")\n",
    "    return {\"answer\": response.content}"
   ]
  },
  {
   "cell_type": "code",
   "execution_count": 158,
   "metadata": {},
   "outputs": [],
   "source": [
    "from langchain_openai import ChatOpenAI\n",
    "\n",
    "llm = ChatOpenAI(model=\"gpt-4o\")"
   ]
  },
  {
   "cell_type": "code",
   "execution_count": 159,
   "metadata": {},
   "outputs": [
    {
     "name": "stderr",
     "output_type": "stream",
     "text": [
      "/Users/kimjangho/Desktop/langgraph-agent/.venv/lib/python3.11/site-packages/langsmith/client.py:272: LangSmithMissingAPIKeyWarning: API key must be provided when using hosted LangSmith API\n",
      "  warnings.warn(\n"
     ]
    }
   ],
   "source": [
    "from langchain import hub\n",
    "from typing import Literal\n",
    "\n",
    "relevence_doc_prompt = hub.pull(\"langchain-ai/rag-document-relevance\")\n",
    "\n",
    "def check_relevence_doc(state: AgentState) -> Literal[\"relevant\", \"irrelevant\"]:\n",
    "    query = state[\"query\"]\n",
    "    context = state[\"context\"]\n",
    "    relevence_chain  = relevence_doc_prompt | llm \n",
    "    response = relevence_chain.invoke({\"documents\": context, \"question\": query})\n",
    "    if response['Score'] == 1:\n",
    "        return 'relevant'\n",
    "    \n",
    "    return 'irrelevant'\n"
   ]
  },
  {
   "cell_type": "code",
   "execution_count": 160,
   "metadata": {},
   "outputs": [],
   "source": [
    "from langchain_core.prompts import PromptTemplate\n",
    "from langchain_core.output_parsers import StrOutputParser\n",
    "\n",
    "dictionary = ['사람과 관련된 표현 -> 거주자']\n",
    "\n",
    "rewrite_prompt = PromptTemplate.from_template(\n",
    "\"\"\"\n",
    "사용자의 질문을 보고, 우리의 사전을 참고하여 사용자의 질문을 변경해주세요.\n",
    "사전 : {dictionary}\n",
    "사용자의 질문 : {{query}}\n",
    "\"\"\"\n",
    ")\n",
    "\n",
    "def rewrite(state: AgentState):\n",
    "    query = state[\"query\"]\n",
    "    rewrite_chain = rewrite_prompt | llm | StrOutputParser()\n",
    "    \n",
    "    response = rewrite_chain.invoke({\"query\": query})\n",
    "    return {\"query\": response}"
   ]
  },
  {
   "cell_type": "code",
   "execution_count": 161,
   "metadata": {},
   "outputs": [],
   "source": [
    "from langchain_core.prompts import PromptTemplate\n",
    "from langchain_openai import ChatOpenAI\n",
    "from langchain_core.output_parsers import StrOutputParser\n",
    "\n",
    "hallucination_llm = ChatOpenAI(model=\"gpt-4o\", temperature=0)\n",
    "\n",
    "hallucination_prompt = PromptTemplate.from_template(\n",
    "\"\"\"\n",
    "you are a teacher tasked with checking if a student's answer is based on the given documents or not.\n",
    "Given the student's answer and the documents, please determine if the student's answer is based on the documents or not.\n",
    "if the student's answer is not based on the documents, please return 'hallucinated'\n",
    "if the student's answer is based on the documents, please return 'not hallucinated'\n",
    "\n",
    "documents : {documents}\n",
    "student_answer : {student_answer}\n",
    "\"\"\"\n",
    ")\n",
    "\n",
    "def check_hallucination(state: AgentState) -> Literal[\"hallucinated\", \"not hallucinated\"]:\n",
    "    answer = state[\"answer\"]\n",
    "    context = state[\"context\"]\n",
    "    hallucination_chain = hallucination_prompt | hallucination_llm | StrOutputParser()\n",
    "    response = hallucination_chain.invoke({\"student_answer\": answer, \"documents\": context})\n",
    "    return response\n"
   ]
  },
  {
   "cell_type": "code",
   "execution_count": 162,
   "metadata": {},
   "outputs": [
    {
     "name": "stderr",
     "output_type": "stream",
     "text": [
      "/Users/kimjangho/Desktop/langgraph-agent/.venv/lib/python3.11/site-packages/langsmith/client.py:272: LangSmithMissingAPIKeyWarning: API key must be provided when using hosted LangSmith API\n",
      "  warnings.warn(\n"
     ]
    }
   ],
   "source": [
    "from langchain import hub\n",
    "\n",
    "helpfullness_prompt = hub.pull(\"langchain-ai/rag-answer-helpfulness\")\n",
    "\n",
    "def check_helpfulness_grader(state: AgentState):\n",
    "    query = state[\"query\"]\n",
    "    answer = state[\"answer\"]\n",
    "    helpfullness_chain = helpfullness_prompt | llm\n",
    "    response = helpfullness_chain.invoke({\"question\": query, \"student_answer\": answer})\n",
    "    if response['Score'] == 1:\n",
    "        return 'helpful'\n",
    "    else:\n",
    "        return 'unhelpful'\n",
    "\n",
    "def check_helpfulness(state: AgentState):\n",
    "    return state\n"
   ]
  },
  {
   "cell_type": "code",
   "execution_count": 163,
   "metadata": {},
   "outputs": [
    {
     "data": {
      "text/plain": [
       "<langgraph.graph.state.StateGraph at 0x15e2ed390>"
      ]
     },
     "execution_count": 163,
     "metadata": {},
     "output_type": "execute_result"
    }
   ],
   "source": [
    "graph_builder.add_node(\"retrieve\", retrieve)\n",
    "graph_builder.add_node(\"generate\", generate)\n",
    "graph_builder.add_node(\"rewrite\", rewrite)\n",
    "graph_builder.add_node(\"check_helpfulness\", check_helpfulness)"
   ]
  },
  {
   "cell_type": "code",
   "execution_count": 164,
   "metadata": {},
   "outputs": [
    {
     "data": {
      "text/plain": [
       "<langgraph.graph.state.StateGraph at 0x15e2ed390>"
      ]
     },
     "execution_count": 164,
     "metadata": {},
     "output_type": "execute_result"
    }
   ],
   "source": [
    "from langgraph.graph import START, END\n",
    "\n",
    "# 노드 연결\n",
    "graph_builder.add_edge(START, \"retrieve\")\n",
    "graph_builder.add_conditional_edges(\"retrieve\", check_relevence_doc, {\n",
    "  \"relevant\": \"generate\",\n",
    "  \"irrelevant\": END\n",
    "})\n",
    "graph_builder.add_conditional_edges(\"generate\", check_hallucination, {\n",
    "  \"hallucinated\": \"generate\",\n",
    "  \"not hallucinated\": \"check_helpfulness\"\n",
    "})\n",
    "graph_builder.add_conditional_edges(\"check_helpfulness\", check_helpfulness_grader, {\n",
    "  \"helpful\": END,\n",
    "  \"unhelpful\": \"rewrite\"\n",
    "})\n",
    "graph_builder.add_edge(\"rewrite\", \"retrieve\")"
   ]
  },
  {
   "cell_type": "code",
   "execution_count": 165,
   "metadata": {},
   "outputs": [],
   "source": [
    "# 그래프 컴파일\n",
    "graph = graph_builder.compile()"
   ]
  },
  {
   "cell_type": "code",
   "execution_count": 166,
   "metadata": {},
   "outputs": [
    {
     "data": {
      "image/png": "[encoded data removed]",
      "text/plain": [
       "<IPython.core.display.Image object>"
      ]
     },
     "metadata": {},
     "output_type": "display_data"
    }
   ],
   "source": [
    "from IPython.display import Image, display\n",
    "\n",
    "# 그래프 시각화\n",
    "display(Image(graph.get_graph().draw_mermaid_png()))"
   ]
  },
  {
   "cell_type": "code",
   "execution_count": 167,
   "metadata": {},
   "outputs": [
    {
     "name": "stdout",
     "output_type": "stream",
     "text": [
      "generate response: content='연봉이 5천만원인 거주자가 납부해야 하는 소득세는 840만원입니다. 이는 과세표준 5천만원 초과 소득에 대한 24% 세율을 반영한 금액입니다.' additional_kwargs={'refusal': None} response_metadata={'token_usage': {'completion_tokens': 53, 'prompt_tokens': 2474, 'total_tokens': 2527, 'completion_tokens_details': {'accepted_prediction_tokens': 0, 'audio_tokens': 0, 'reasoning_tokens': 0, 'rejected_prediction_tokens': 0}, 'prompt_tokens_details': {'audio_tokens': 0, 'cached_tokens': 2432}}, 'model_name': 'gpt-4o-2024-08-06', 'system_fingerprint': 'fp_07871e2ad8', 'id': 'chatcmpl-BfK6KqKFz0BbQ22NexWdA9VgLEF4m', 'service_tier': 'default', 'finish_reason': 'stop', 'logprobs': None} id='run--1e6800d2-edb7-4676-b87d-09e048e61309-0' usage_metadata={'input_tokens': 2474, 'output_tokens': 53, 'total_tokens': 2527, 'input_token_details': {'audio': 0, 'cache_read': 2432}, 'output_token_details': {'audio': 0, 'reasoning': 0}}\n",
      "generate response: content='소득세는 종합소득과세표준에 따라 계산됩니다. 연봉이 5천만원일 경우, 해당 구간의 기본세액인 624만원에 추가적으로 (8,800만원을 초과하는 금액에 대한 24%)를 더해야 하는데, 5천만원은 8,800만원을 초과하지 않으므로 624만원이 소득세가 됩니다.' additional_kwargs={'refusal': None} response_metadata={'token_usage': {'completion_tokens': 90, 'prompt_tokens': 2474, 'total_tokens': 2564, 'completion_tokens_details': {'accepted_prediction_tokens': 0, 'audio_tokens': 0, 'reasoning_tokens': 0, 'rejected_prediction_tokens': 0}, 'prompt_tokens_details': {'audio_tokens': 0, 'cached_tokens': 2432}}, 'model_name': 'gpt-4o-2024-08-06', 'system_fingerprint': 'fp_07871e2ad8', 'id': 'chatcmpl-BfK6NYgJvLUNenQDCuoJpdzyYLZXW', 'service_tier': 'default', 'finish_reason': 'stop', 'logprobs': None} id='run--d25da631-000f-4967-8300-526ea801da73-0' usage_metadata={'input_tokens': 2474, 'output_tokens': 90, 'total_tokens': 2564, 'input_token_details': {'audio': 0, 'cache_read': 2432}, 'output_token_details': {'audio': 0, 'reasoning': 0}}\n"
     ]
    },
    {
     "data": {
      "text/plain": [
       "{'query': '연봉이 5천만원인 거주자가 납부해야하는 소득세는 얼마인가요?',\n",
       " 'context': [Document(id='1b1aaf5f-6b84-4176-a226-c2c8e7f0e248', metadata={'source': './documents/income_tax.txt'}, page_content='5년 이하: 30만원 → 납입연수\\n5년 초과 10년 이하: 150만원 + 50만원 × (납입연수 - 5년)\\n10년 초과 20년 이하: 400만원 + 80만원 × (납입연수 - 10년)\\n20년 초과: 1,200만원 + 120만원 × (납입연수 - 20년)\\n\\n② 직장근로자 초과관세환급금을 분배하여 지급받는 경우 세액의 계산 방법 등 필요한 사항은 대통령령으로 정한다. \\n<대통령 2014. 12. 23.>\\n<전문개정 2009. 12. 31.>\\n제64조(부동산매매업자에 대한 세액 계산의 특례)\\n1) 대통령령으로 정하는 부동산매매업(이하 “부동산매매업”이라 한다)을 영위하는 거주자가 이하 “부동산매매업자”라 한다)로서 종합소득세법에 제104조제1항제1호(본항을 포함한다) 및 제103조 또는 같은 조 제7항 각 호의 어느 하나에 해당하는 자산의 매매자익(이하 “주택등매매차익”이라 한다)이 있는 자의 종합소득 산출세액은 다음 각 호의 세액 중 많은 것으로 한다. \\n<개정 2014. 12. 23., 2017. 12. 19., 2020. 12. 29.>\\n1. 종합소득 산출세액\\n\\n다음 각 목에 따른 세액의 합계액\\n  가. 주택등매매차익에 따른 세율을 적용하여 산출한 세액의 합계액\\n  나. 종합소득세법 제55조에 따라 주택등매매차익에 대한 개별세액을 공제한 금액을 과세표준으로 하고 이에 제55조에 따른 세율을 적용하여 산출세액'),\n",
       "  Document(id='30d76fab-2884-47d1-a9da-a55bd1fd2b79', metadata={'source': './documents/income_tax.txt'}, page_content='② 제70조제1항, 제70조의2에 따른 제74조에 따라 차례로 할 것이 제70조제1항제2호에 따르며 서류를 제출하여야 한다는 경우에는 기준소득 중 거주자 본인이 된다(분산)과 제70조제2와 제74조에 따른 제료 및 제대법을 포함한다. 단, 차별제표청정인 그 업체를 남겨 제출한 경우로 그에 대하여 아니하다.<개정 2013. 1. 1.>\\n  ③ 제80조에 따른 수익과 관련의 경우에는 기초공제 중 거주자 본인이 된다(분산)과 그에 관한 적지사항을 분명히 한다.\\n[전문개정 2009. 12. 31.]\\n[제목개정 2014. 1. 1.]\\n제54조의2(공동사업에 대한 소득공제 등 특례) 제51조의3 또는 「조세특례제한법」에 따른 소득공제를 적용하거나 제59조의2에 따른 세액감면을 적용하는 경우 제54조제3항에 따라 공동사업자의 소득에 합산과세되는 특별세액거래의 지출․납입․투자 등의 금액이 있을 경우 주된 공동사업자의 소득에 합산과세되는 소득금액에 합산되어 주된 공동사업자의 합산과세세액은 공동사업소득액 또는 공동사업창출세액을 계산할 때 소득공제 또는 세액공제를 받을 수 있다. \\n[개정 2014. 1. 1.]\\n[전문개정 2009. 12. 31.]\\n[제목개정 2014. 1. 1.]\\n제2절 세액의 계산 <개정 2009. 12. 31.>\\n제1관 세율 <개정 2009. 12. 31.>\\n제55조(세율) 거주자의 종합소득에 대한 소득세는 해당 연도의 종합소득과세표준에 다음의 세율을 적용하여 계산한 금액(이하 \"종합소득과세표준세액\"이라 한다)을 그 세액으로 한다. <개정 2014. 1. 1., 2016. 12. 20., 2017. 12. 19., 2020. 12. 29., 2022. 12. 31.>\\n종합소득\\n┌───────────────┐\\n│ 과세표준의 6개 구간 │\\n├───────────────┤\\n│ 1,400만원 이하        │ 84만원 + (1,400만원을 초과하는 금액의 15%)  │\\n│ 1,400만원 초과        │ 84만원 + (5,000만원을 초과하는 금액의 24%)  │\\n│ 8,800만원 이하        │ 624만원 + (5,000만원을 초과하는 금액의 24%)  │\\n│ 8,800만원 초과        │ 1,536만원 + (8,800만원을 초과하는 금액의 35%)  │\\n│ 1.5억원 초과          │ 4,046만원 + (1,500만원을 초과하는 금액의 38%)  │\\n│ 3억원 초과            │ 6,460만원 + (3억원을 초과하는 금액의 40%)  │\\n│ 5억원 초과            │ 14,760만원 + (5억원을 초과하는 금액의 42%)  │\\n│ 10억원 초과           │ 38,406만원 + (10억원을 초과하는 금액의 45%)  │\\n└───────────────┘\\n② 거주자의 퇴직소득에 대한 소득세는 다음 각 호의 순서에 따라 계산한 금액(이하 ‘퇴직소득 산출세액’이라 한다)으로 한다. <개정 2013. 1. 1., 2014. 12. 23.>'),\n",
       "  Document(id='c0d32779-03c1-4b50-9632-e127792a324c', metadata={'source': './documents/income_tax.txt'}, page_content='근무기한: 개월 수로 계산한다. 이 경우 1개월 미만의 기간이 있는 경우에는 이를 1개월로 본다.\\n종합소득: 봉급ㆍ상여 등 제20조제1항제1호 및 제23조에 따른 포괄소득(제12조전단에 따른 비과세소득은 제외한다)을 한다.\\n⑤ 삭제<2013. 1. 1.>\\n⑥ 퇴직소득의 범위 및 계산방법과 그 밖에 필요한 사항은 대통령령으로 정한다.<전문개정 2009. 12. 31.>\\n\\n제23조 <삭제 2006. 12. 30.>\\n제3절 소득금액의 계산\\n제5장 2009. 12. 31.>\\n제1항 총수입금액 <개정 2009. 12. 31.>\\n제24조(총수입금액의 계산) ① 거주자 각 소득에 대한 총수입액(총급여액과 총연금액을 포함한다. 이하 같다)은 해당 과세기간에 수입하였거나 수입할 금액의 합계액으로 한다.\\n② 제1항의 경우 금지 외의 자원을 수입할 때는 그 수입금액을 그 거래 당시의 가격에 의하여 계산한다.\\n총수입액을 계산할 때 수입하였거나 수입할 금액의 범위와 계산에 관한 필요한 사항은 대통령령으로 정한다.<전문개정 2009. 12. 31.>\\n제25조(총수입금액의 계산과 특례) ① 거주자가 부동산 또는 그 부동산상의 권리 등을 대여하거나 보증금ㆍ전세금 또는 이와 유사한 성질의 금액(이하 \"보증금\"이라 한다)을 받는 경우에는 대통령령으로 정하는 범에 따라 계산한 금액을 상속소득금액에산입할 때 총수입금액에 산입한다. 다만, 주택자금의 용도로 보이는 명저 1조(F) 또는 1세대당 3천미터 이하인 주택으로서 해당 세기기간이 기준시가가 2억인 이하 주택을 2026년 12월 31일까지 주택 수입 계산하지 아니하는 대여요금받는 경우에는 다음 중 하나의 하나에 해당하는 경우를 하며, 주택 수의 계산에 필요한 사항은 대통령령으로 정한다. <개정 2012. 1. 1., 2014. 1. 1., 2016. 12. 20, 2018. 12. 31, 2021. 12. 8, 2023. 12. 31.>\\n\\n3주택 이상을 소유하며 해당 주택의 보증금의 합계액이 3억원을 초과하는 경우  \\n주택당(해당 주택의 기준시가가 12억원 이하인 주택 주택에 포함하지 아니하는 것을 소유하거나 해당 주택의 보증금의 합계액이 3억원 이상인 경우로서 대통령령으로 정하는 금액을 초과하는 경우\\n거주자가 재산소득(資産所得) 또는 임금을 가사로 소비하지증명된 날에 지급받는 경우에 이를 소비하지 않고 사용하는 금액에 대해 가액에 해당하는 금액을 소비하지 않으면 소득금액에 대한 선입법의 사업소득금액에 산입한다.<삭제 2021. 12. 19.>\\n[시행일: 2026. 1. 1. <지방소득세법 제25조제1항제1호>]')],\n",
       " 'answer': '소득세는 종합소득과세표준에 따라 계산됩니다. 연봉이 5천만원일 경우, 해당 구간의 기본세액인 624만원에 추가적으로 (8,800만원을 초과하는 금액에 대한 24%)를 더해야 하는데, 5천만원은 8,800만원을 초과하지 않으므로 624만원이 소득세가 됩니다.'}"
      ]
     },
     "execution_count": 167,
     "metadata": {},
     "output_type": "execute_result"
    }
   ],
   "source": [
    "inital_state = {'query': '연봉이 5천만원인 거주자가 납부해야하는 소득세는 얼마인가요?'}\n",
    "graph.invoke(inital_state)"
   ]
  },
  {
   "cell_type": "code",
   "execution_count": null,
   "metadata": {},
   "outputs": [],
   "source": []
  }
 ],
 "metadata": {
  "kernelspec": {
   "display_name": ".venv",
   "language": "python",
   "name": "python3"
  },
  "language_info": {
   "codemirror_mode": {
    "name": "ipython",
    "version": 3
   },
   "file_extension": ".py",
   "mimetype": "text/x-python",
   "name": "python",
   "nbconvert_exporter": "python",
   "pygments_lexer": "ipython3",
   "version": "3.11.1"
  }
 },
 "nbformat": 4,
 "nbformat_minor": 2
}
